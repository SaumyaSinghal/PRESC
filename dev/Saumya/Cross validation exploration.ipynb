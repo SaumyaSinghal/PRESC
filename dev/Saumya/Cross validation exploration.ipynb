{
 "cells": [
  {
   "cell_type": "markdown",
   "metadata": {},
   "source": [
    "# Import libraries "
   ]
  },
  {
   "cell_type": "markdown",
   "metadata": {},
   "source": [
    "Importing all the libraries that are used. Some might not be needed by this notebook, but are there for debugging purposes. I hope to create a separate python file just for import statements to avoid importing these in every notebook."
   ]
  },
  {
   "cell_type": "code",
   "execution_count": 1,
   "metadata": {},
   "outputs": [],
   "source": [
    "import pandas as pd\n",
    "import numpy as np\n",
    "from itertools import cycle\n",
    "import time\n",
    "\n",
    "import sklearn\n",
    "from sklearn import svm, tree, linear_model, neighbors, naive_bayes, ensemble, discriminant_analysis, gaussian_process\n",
    "from sklearn import model_selection\n",
    "from sklearn import feature_selection\n",
    "from sklearn.preprocessing import LabelEncoder\n",
    "from sklearn.preprocessing import label_binarize\n",
    "from sklearn.multiclass import OneVsRestClassifier\n",
    "from sklearn import metrics\n",
    "from sklearn.metrics import roc_curve, auc, roc_auc_score, precision_recall_curve, average_precision_score\n",
    "from scipy import interp\n",
    "import matplotlib\n",
    "import matplotlib.pyplot as plt\n",
    "import matplotlib.pylab as pylab\n",
    "import seaborn as sns\n",
    "\n",
    "%load_ext autoreload\n",
    "%autoreload 2\n",
    "%matplotlib inline\n",
    "matplotlib.style.use('ggplot')\n",
    "sns.set_style('white')\n",
    "pylab.rcParams['figure.figsize'] = 12,8"
   ]
  },
  {
   "cell_type": "markdown",
   "metadata": {},
   "source": [
    "## Import the custom helper files"
   ]
  },
  {
   "cell_type": "code",
   "execution_count": 2,
   "metadata": {},
   "outputs": [],
   "source": [
    "from algorithm_helpers import *\n",
    "from visualisation_helpers import *"
   ]
  },
  {
   "cell_type": "markdown",
   "metadata": {},
   "source": [
    "# Load and prepare the data"
   ]
  },
  {
   "cell_type": "markdown",
   "metadata": {},
   "source": [
    "I'll be using the ```vehicles.csv``` dataset. We load it using pandas."
   ]
  },
  {
   "cell_type": "code",
   "execution_count": 3,
   "metadata": {},
   "outputs": [],
   "source": [
    "path = '../../datasets/vehicles.csv'  # Path to dataset\n",
    "df = pd.read_csv(path)"
   ]
  },
  {
   "cell_type": "code",
   "execution_count": 4,
   "metadata": {},
   "outputs": [],
   "source": [
    "X = df.drop(labels='Class', axis=1)  # Drop the target attribute from the X variable\n",
    "# We are not normalising the data for this particular notebook.\n",
    "y = df.Class  # The target attribute to be predicted"
   ]
  },
  {
   "cell_type": "markdown",
   "metadata": {},
   "source": [
    "# Cross validation performance analysis: a high level exploration"
   ]
  },
  {
   "cell_type": "markdown",
   "metadata": {},
   "source": [
    "We would be comparing the accuracies of Shuffle split and K-fold cross validation techniques as well as their stratified versions. Thus, to enumerate, our exploration would be based on:\n",
    "* Shuffle split\n",
    "* K-fold split\n",
    "* Stratified shuffle split\n",
    "* Stratified k-fold split."
   ]
  },
  {
   "cell_type": "code",
   "execution_count": 5,
   "metadata": {},
   "outputs": [],
   "source": [
    "# We create a dictionary for each type of cross-validation technique with the keys as the number of splits\n",
    "# and the values being the corresponding objects.\n",
    "cv_shuffle_split = {}\n",
    "cv_kfold_split = {}\n",
    "cv_stratified_shuffle_split = {}\n",
    "cv_stratified_kfold_split = {}\n",
    "# We vary the number of splits as 10, 20, 30..., 90 for each cross-validator\n",
    "for i in range (10, 100, 10):\n",
    "    cv_shuffle_split[i] = model_selection.ShuffleSplit(n_splits = i, test_size = .3, train_size = .6, random_state = 42)  # Run model with 60-30 split intentionally leaving out 10%\n",
    "    cv_kfold_split[i] = model_selection.KFold(n_splits = i, shuffle=True, random_state = 42)\n",
    "    cv_stratified_shuffle_split[i] = model_selection.StratifiedShuffleSplit(n_splits = i, test_size = .3, train_size = .6, random_state = 42)  # Run model with 60-30 split intentionally leaving out 10%\n",
    "    cv_stratified_kfold_split[i] = model_selection.StratifiedKFold(n_splits = i, shuffle=True, random_state = 42)"
   ]
  },
  {
   "cell_type": "markdown",
   "metadata": {},
   "source": [
    "Only 3 classifiers are used to reduce unnecessary complexity. However, the classifiers used are all of different types."
   ]
  },
  {
   "cell_type": "code",
   "execution_count": 6,
   "metadata": {},
   "outputs": [],
   "source": [
    "MLA = [\n",
    "        ensemble.RandomForestClassifier(),\n",
    "\n",
    "        svm.SVC(),\n",
    "    \n",
    "        discriminant_analysis.QuadraticDiscriminantAnalysis(),\n",
    "        ]"
   ]
  },
  {
   "cell_type": "markdown",
   "metadata": {},
   "source": [
    "**No normalization?** Random forest and QDA do not require normalization but support vector machine does in most cases. However, I decided against doing it as I found the idea to keep an imperfect classifier interesting. It can provide valuable information on how different cross-validation techniques and parameters affect imbalanced classifiers."
   ]
  },
  {
   "cell_type": "markdown",
   "metadata": {},
   "source": [
    "Let's view the classifier hyper-parameters (we are using the defaults ones though)."
   ]
  },
  {
   "cell_type": "code",
   "execution_count": 7,
   "metadata": {},
   "outputs": [
    {
     "name": "stdout",
     "output_type": "stream",
     "text": [
      "RandomForestClassifier(bootstrap=True, ccp_alpha=0.0, class_weight=None,\n",
      "                       criterion='gini', max_depth=None, max_features='auto',\n",
      "                       max_leaf_nodes=None, max_samples=None,\n",
      "                       min_impurity_decrease=0.0, min_impurity_split=None,\n",
      "                       min_samples_leaf=1, min_samples_split=2,\n",
      "                       min_weight_fraction_leaf=0.0, n_estimators=100,\n",
      "                       n_jobs=None, oob_score=False, random_state=None,\n",
      "                       verbose=0, warm_start=False)\n",
      "SVC(C=1.0, break_ties=False, cache_size=200, class_weight=None, coef0=0.0,\n",
      "    decision_function_shape='ovr', degree=3, gamma='scale', kernel='rbf',\n",
      "    max_iter=-1, probability=False, random_state=None, shrinking=True,\n",
      "    tol=0.001, verbose=False)\n",
      "QuadraticDiscriminantAnalysis(priors=None, reg_param=0.0,\n",
      "                              store_covariance=False, tol=0.0001)\n"
     ]
    }
   ],
   "source": [
    "for clf in MLA:\n",
    "    print(clf)"
   ]
  },
  {
   "cell_type": "markdown",
   "metadata": {},
   "source": [
    "```get_cv_comparision()``` takes in the classifiers, input data, labels and cross-validation technique as input and returns a pandas *DataFrame* object with the representation:\n",
    "* Columns: Mean test accuracy with each classifier used\n",
    "* Rows: Each split used (10, 20, 30..., 90).\n",
    "\n",
    "To be honest, this took a lot of time to write, especially arranging it properly into a dictionary and then converting the list of dictionaries into a pandas dataframe. Anyway, it now works as I wanted it to :D"
   ]
  },
  {
   "cell_type": "code",
   "execution_count": 8,
   "metadata": {},
   "outputs": [],
   "source": [
    "def get_cv_comparison(MLA, X, y, cv):\n",
    "    MLA_compare = pd.DataFrame()\n",
    "    MLA_list = []\n",
    "    for n_split, cv_split in cv.items():\n",
    "        MLA_com, _ = run_models(MLA, X, y, cv_split)\n",
    "        MLA_com.drop(['MLA Parameters', 'MLA Test Accuracy 3*STD', 'MLA Train Accuracy Mean', 'MLA Time'],\n",
    "                     axis=1, inplace=True)\n",
    "\n",
    "        MLA_dict = MLA_com.set_index('MLA Name').T.to_dict('list')\n",
    "        for i, value in MLA_dict.items():\n",
    "            MLA_dict[i] = value[0]  # Unpack the one-d array\n",
    "        MLA_dict['n_splits'] = n_split\n",
    "        MLA_list.append(MLA_dict)\n",
    "    return pd.DataFrame(MLA_list).set_index('n_splits')"
   ]
  },
  {
   "cell_type": "markdown",
   "metadata": {},
   "source": [
    "Now we proceed to obtain the split-wise comparison tables for each of the 4 cross-validation techniques used.\n",
    "\n",
    "Note: This takes a while to run."
   ]
  },
  {
   "cell_type": "code",
   "execution_count": 9,
   "metadata": {},
   "outputs": [
    {
     "name": "stdout",
     "output_type": "stream",
     "text": [
      "CPU times: user 16.8 s, sys: 631 ms, total: 17.4 s\n",
      "Wall time: 43.3 s\n"
     ]
    }
   ],
   "source": [
    "%%time\n",
    "cv_shuffle_comp = get_cv_comparison(MLA, X, y, cv_shuffle_split)\n",
    "cv_kfold_comp = get_cv_comparison(MLA, X, y, cv_kfold_split)\n",
    "cv_stratified_shuffle_comp = get_cv_comparison(MLA, X, y, cv_stratified_shuffle_split)\n",
    "cv_stratified_kfold_comp = get_cv_comparison(MLA, X, y, cv_stratified_kfold_split)"
   ]
  },
  {
   "cell_type": "markdown",
   "metadata": {},
   "source": [
    "## Shuffle split vs k-fold"
   ]
  },
  {
   "cell_type": "markdown",
   "metadata": {},
   "source": [
    "Shuffle split takes the dataset and picks a number of samples according to the test and train sizes specified in a **random** order. Since this works like a generator, subsequently calling it will yield the subsequent batches of samples till the number of splits is exceeded. However, shuffle split picks random samples on each call and does not guarantee that the samples returned would be unique with respect to the previous batch returned, which also means that unless the number of splits is large the entire dataset might not be used.\n",
    "\n",
    "K-fold, on the other hand, also being a generator, randomly shuffles the dataset but just **once** and returns batches consecutively with no overlap of **test** samples. This guarantees unique **test** samples in each batch. The train set (size is automatically computed with the number of splits given), however, is taken as the complementary of the test set, meaning that there will be overlap between batches.\n",
    "\n",
    "Stratification refers to splitting the dataset in such a way that ideally the **proportion** of each class in each train and test set returned is same. For the dataset we are using, the classes are mostly balanced, hence stratification would not be beneficial to that effect.\n",
    "\n",
    "The **metric** we have used for comparison is **mean test accuracy** for each classifier."
   ]
  },
  {
   "cell_type": "markdown",
   "metadata": {},
   "source": [
    "## Shuffle split"
   ]
  },
  {
   "cell_type": "markdown",
   "metadata": {},
   "source": [
    "Note: The values in the table are the **mean test accuracy** for the respective classifiers."
   ]
  },
  {
   "cell_type": "code",
   "execution_count": 10,
   "metadata": {},
   "outputs": [
    {
     "data": {
      "text/html": [
       "<div>\n",
       "<style scoped>\n",
       "    .dataframe tbody tr th:only-of-type {\n",
       "        vertical-align: middle;\n",
       "    }\n",
       "\n",
       "    .dataframe tbody tr th {\n",
       "        vertical-align: top;\n",
       "    }\n",
       "\n",
       "    .dataframe thead th {\n",
       "        text-align: right;\n",
       "    }\n",
       "</style>\n",
       "<table border=\"1\" class=\"dataframe\">\n",
       "  <thead>\n",
       "    <tr style=\"text-align: right;\">\n",
       "      <th></th>\n",
       "      <th>QuadraticDiscriminantAnalysis</th>\n",
       "      <th>RandomForestClassifier</th>\n",
       "      <th>SVC</th>\n",
       "    </tr>\n",
       "    <tr>\n",
       "      <th>n_splits</th>\n",
       "      <th></th>\n",
       "      <th></th>\n",
       "      <th></th>\n",
       "    </tr>\n",
       "  </thead>\n",
       "  <tbody>\n",
       "    <tr>\n",
       "      <th>10</th>\n",
       "      <td>0.842126</td>\n",
       "      <td>0.752362</td>\n",
       "      <td>0.442520</td>\n",
       "    </tr>\n",
       "    <tr>\n",
       "      <th>20</th>\n",
       "      <td>0.847441</td>\n",
       "      <td>0.757087</td>\n",
       "      <td>0.459252</td>\n",
       "    </tr>\n",
       "    <tr>\n",
       "      <th>30</th>\n",
       "      <td>0.844488</td>\n",
       "      <td>0.750131</td>\n",
       "      <td>0.459580</td>\n",
       "    </tr>\n",
       "    <tr>\n",
       "      <th>40</th>\n",
       "      <td>0.845079</td>\n",
       "      <td>0.751280</td>\n",
       "      <td>0.465453</td>\n",
       "    </tr>\n",
       "    <tr>\n",
       "      <th>50</th>\n",
       "      <td>0.843780</td>\n",
       "      <td>0.749764</td>\n",
       "      <td>0.465906</td>\n",
       "    </tr>\n",
       "    <tr>\n",
       "      <th>60</th>\n",
       "      <td>0.844160</td>\n",
       "      <td>0.749934</td>\n",
       "      <td>0.468438</td>\n",
       "    </tr>\n",
       "    <tr>\n",
       "      <th>70</th>\n",
       "      <td>0.845444</td>\n",
       "      <td>0.750675</td>\n",
       "      <td>0.467942</td>\n",
       "    </tr>\n",
       "    <tr>\n",
       "      <th>80</th>\n",
       "      <td>0.846358</td>\n",
       "      <td>0.750738</td>\n",
       "      <td>0.468356</td>\n",
       "    </tr>\n",
       "    <tr>\n",
       "      <th>90</th>\n",
       "      <td>0.845538</td>\n",
       "      <td>0.747200</td>\n",
       "      <td>0.468154</td>\n",
       "    </tr>\n",
       "  </tbody>\n",
       "</table>\n",
       "</div>"
      ],
      "text/plain": [
       "          QuadraticDiscriminantAnalysis  RandomForestClassifier       SVC\n",
       "n_splits                                                                 \n",
       "10                             0.842126                0.752362  0.442520\n",
       "20                             0.847441                0.757087  0.459252\n",
       "30                             0.844488                0.750131  0.459580\n",
       "40                             0.845079                0.751280  0.465453\n",
       "50                             0.843780                0.749764  0.465906\n",
       "60                             0.844160                0.749934  0.468438\n",
       "70                             0.845444                0.750675  0.467942\n",
       "80                             0.846358                0.750738  0.468356\n",
       "90                             0.845538                0.747200  0.468154"
      ]
     },
     "execution_count": 10,
     "metadata": {},
     "output_type": "execute_result"
    }
   ],
   "source": [
    "cv_shuffle_comp"
   ]
  },
  {
   "cell_type": "code",
   "execution_count": 11,
   "metadata": {},
   "outputs": [
    {
     "data": {
      "text/plain": [
       "<matplotlib.axes._subplots.AxesSubplot at 0x7f33807ec5b0>"
      ]
     },
     "execution_count": 11,
     "metadata": {},
     "output_type": "execute_result"
    },
    {
     "data": {
      "image/png": "[encoded data removed]",
      "text/plain": [
       "<Figure size 864x576 with 1 Axes>"
      ]
     },
     "metadata": {},
     "output_type": "display_data"
    }
   ],
   "source": [
    "cv_shuffle_comp.plot.barh(legend=True)  # The legend can be turned off to get a clearer view of the top-right corner"
   ]
  },
  {
   "cell_type": "markdown",
   "metadata": {},
   "source": [
    "We observe that the mean test accuracy for 10 splits is the least and the maximum accuracy is somewhere in the middle for the RF and QDA but increases with the number of splits for the SVC. However, this separate trend for SVC is not observed with the other cross-validation techniques."
   ]
  },
  {
   "cell_type": "markdown",
   "metadata": {},
   "source": [
    "## K-fold split"
   ]
  },
  {
   "cell_type": "code",
   "execution_count": 12,
   "metadata": {},
   "outputs": [
    {
     "data": {
      "text/html": [
       "<div>\n",
       "<style scoped>\n",
       "    .dataframe tbody tr th:only-of-type {\n",
       "        vertical-align: middle;\n",
       "    }\n",
       "\n",
       "    .dataframe tbody tr th {\n",
       "        vertical-align: top;\n",
       "    }\n",
       "\n",
       "    .dataframe thead th {\n",
       "        text-align: right;\n",
       "    }\n",
       "</style>\n",
       "<table border=\"1\" class=\"dataframe\">\n",
       "  <thead>\n",
       "    <tr style=\"text-align: right;\">\n",
       "      <th></th>\n",
       "      <th>QuadraticDiscriminantAnalysis</th>\n",
       "      <th>RandomForestClassifier</th>\n",
       "      <th>SVC</th>\n",
       "    </tr>\n",
       "    <tr>\n",
       "      <th>n_splits</th>\n",
       "      <th></th>\n",
       "      <th></th>\n",
       "      <th></th>\n",
       "    </tr>\n",
       "  </thead>\n",
       "  <tbody>\n",
       "    <tr>\n",
       "      <th>10</th>\n",
       "      <td>0.853333</td>\n",
       "      <td>0.756303</td>\n",
       "      <td>0.490406</td>\n",
       "    </tr>\n",
       "    <tr>\n",
       "      <th>20</th>\n",
       "      <td>0.855676</td>\n",
       "      <td>0.751772</td>\n",
       "      <td>0.491805</td>\n",
       "    </tr>\n",
       "    <tr>\n",
       "      <th>30</th>\n",
       "      <td>0.861576</td>\n",
       "      <td>0.755419</td>\n",
       "      <td>0.494130</td>\n",
       "    </tr>\n",
       "    <tr>\n",
       "      <th>40</th>\n",
       "      <td>0.855628</td>\n",
       "      <td>0.733874</td>\n",
       "      <td>0.498701</td>\n",
       "    </tr>\n",
       "    <tr>\n",
       "      <th>50</th>\n",
       "      <td>0.856838</td>\n",
       "      <td>0.750147</td>\n",
       "      <td>0.495368</td>\n",
       "    </tr>\n",
       "    <tr>\n",
       "      <th>60</th>\n",
       "      <td>0.859365</td>\n",
       "      <td>0.748651</td>\n",
       "      <td>0.495238</td>\n",
       "    </tr>\n",
       "    <tr>\n",
       "      <th>70</th>\n",
       "      <td>0.856777</td>\n",
       "      <td>0.742308</td>\n",
       "      <td>0.497344</td>\n",
       "    </tr>\n",
       "    <tr>\n",
       "      <th>80</th>\n",
       "      <td>0.856591</td>\n",
       "      <td>0.757500</td>\n",
       "      <td>0.498636</td>\n",
       "    </tr>\n",
       "    <tr>\n",
       "      <th>90</th>\n",
       "      <td>0.857531</td>\n",
       "      <td>0.750123</td>\n",
       "      <td>0.499753</td>\n",
       "    </tr>\n",
       "  </tbody>\n",
       "</table>\n",
       "</div>"
      ],
      "text/plain": [
       "          QuadraticDiscriminantAnalysis  RandomForestClassifier       SVC\n",
       "n_splits                                                                 \n",
       "10                             0.853333                0.756303  0.490406\n",
       "20                             0.855676                0.751772  0.491805\n",
       "30                             0.861576                0.755419  0.494130\n",
       "40                             0.855628                0.733874  0.498701\n",
       "50                             0.856838                0.750147  0.495368\n",
       "60                             0.859365                0.748651  0.495238\n",
       "70                             0.856777                0.742308  0.497344\n",
       "80                             0.856591                0.757500  0.498636\n",
       "90                             0.857531                0.750123  0.499753"
      ]
     },
     "execution_count": 12,
     "metadata": {},
     "output_type": "execute_result"
    }
   ],
   "source": [
    "cv_kfold_comp"
   ]
  },
  {
   "cell_type": "code",
   "execution_count": 13,
   "metadata": {},
   "outputs": [
    {
     "data": {
      "text/plain": [
       "<matplotlib.axes._subplots.AxesSubplot at 0x7f338062d880>"
      ]
     },
     "execution_count": 13,
     "metadata": {},
     "output_type": "execute_result"
    },
    {
     "data": {
      "image/png": "[encoded data removed]",
      "text/plain": [
       "<Figure size 864x576 with 1 Axes>"
      ]
     },
     "metadata": {},
     "output_type": "display_data"
    }
   ],
   "source": [
    "cv_kfold_comp.plot.barh(legend=True)"
   ]
  },
  {
   "cell_type": "markdown",
   "metadata": {},
   "source": [
    "We observe that the classifiers perform better with k-fold when compared to shuffle split, especially with SVC. We would come to the reason after all comparisons."
   ]
  },
  {
   "cell_type": "markdown",
   "metadata": {},
   "source": [
    "## Stratified shuffle split"
   ]
  },
  {
   "cell_type": "code",
   "execution_count": 14,
   "metadata": {},
   "outputs": [
    {
     "data": {
      "text/html": [
       "<div>\n",
       "<style scoped>\n",
       "    .dataframe tbody tr th:only-of-type {\n",
       "        vertical-align: middle;\n",
       "    }\n",
       "\n",
       "    .dataframe tbody tr th {\n",
       "        vertical-align: top;\n",
       "    }\n",
       "\n",
       "    .dataframe thead th {\n",
       "        text-align: right;\n",
       "    }\n",
       "</style>\n",
       "<table border=\"1\" class=\"dataframe\">\n",
       "  <thead>\n",
       "    <tr style=\"text-align: right;\">\n",
       "      <th></th>\n",
       "      <th>QuadraticDiscriminantAnalysis</th>\n",
       "      <th>RandomForestClassifier</th>\n",
       "      <th>SVC</th>\n",
       "    </tr>\n",
       "    <tr>\n",
       "      <th>n_splits</th>\n",
       "      <th></th>\n",
       "      <th></th>\n",
       "      <th></th>\n",
       "    </tr>\n",
       "  </thead>\n",
       "  <tbody>\n",
       "    <tr>\n",
       "      <th>10</th>\n",
       "      <td>0.848031</td>\n",
       "      <td>0.743701</td>\n",
       "      <td>0.488189</td>\n",
       "    </tr>\n",
       "    <tr>\n",
       "      <th>20</th>\n",
       "      <td>0.838976</td>\n",
       "      <td>0.747835</td>\n",
       "      <td>0.478346</td>\n",
       "    </tr>\n",
       "    <tr>\n",
       "      <th>30</th>\n",
       "      <td>0.837139</td>\n",
       "      <td>0.739370</td>\n",
       "      <td>0.472703</td>\n",
       "    </tr>\n",
       "    <tr>\n",
       "      <th>40</th>\n",
       "      <td>0.839469</td>\n",
       "      <td>0.738681</td>\n",
       "      <td>0.471161</td>\n",
       "    </tr>\n",
       "    <tr>\n",
       "      <th>50</th>\n",
       "      <td>0.840709</td>\n",
       "      <td>0.745039</td>\n",
       "      <td>0.470866</td>\n",
       "    </tr>\n",
       "    <tr>\n",
       "      <th>60</th>\n",
       "      <td>0.839239</td>\n",
       "      <td>0.744291</td>\n",
       "      <td>0.473163</td>\n",
       "    </tr>\n",
       "    <tr>\n",
       "      <th>70</th>\n",
       "      <td>0.839876</td>\n",
       "      <td>0.745501</td>\n",
       "      <td>0.474691</td>\n",
       "    </tr>\n",
       "    <tr>\n",
       "      <th>80</th>\n",
       "      <td>0.841191</td>\n",
       "      <td>0.745472</td>\n",
       "      <td>0.474951</td>\n",
       "    </tr>\n",
       "    <tr>\n",
       "      <th>90</th>\n",
       "      <td>0.841689</td>\n",
       "      <td>0.745538</td>\n",
       "      <td>0.474366</td>\n",
       "    </tr>\n",
       "  </tbody>\n",
       "</table>\n",
       "</div>"
      ],
      "text/plain": [
       "          QuadraticDiscriminantAnalysis  RandomForestClassifier       SVC\n",
       "n_splits                                                                 \n",
       "10                             0.848031                0.743701  0.488189\n",
       "20                             0.838976                0.747835  0.478346\n",
       "30                             0.837139                0.739370  0.472703\n",
       "40                             0.839469                0.738681  0.471161\n",
       "50                             0.840709                0.745039  0.470866\n",
       "60                             0.839239                0.744291  0.473163\n",
       "70                             0.839876                0.745501  0.474691\n",
       "80                             0.841191                0.745472  0.474951\n",
       "90                             0.841689                0.745538  0.474366"
      ]
     },
     "execution_count": 14,
     "metadata": {},
     "output_type": "execute_result"
    }
   ],
   "source": [
    "cv_stratified_shuffle_comp"
   ]
  },
  {
   "cell_type": "code",
   "execution_count": 15,
   "metadata": {},
   "outputs": [
    {
     "data": {
      "text/plain": [
       "<matplotlib.axes._subplots.AxesSubplot at 0x7f338053a3a0>"
      ]
     },
     "execution_count": 15,
     "metadata": {},
     "output_type": "execute_result"
    },
    {
     "data": {
      "image/png": "[encoded data removed]",
      "text/plain": [
       "<Figure size 864x576 with 1 Axes>"
      ]
     },
     "metadata": {},
     "output_type": "display_data"
    }
   ],
   "source": [
    "cv_stratified_shuffle_comp.plot.barh(legend=True)"
   ]
  },
  {
   "cell_type": "markdown",
   "metadata": {},
   "source": [
    "The performance is negligibly better that shuffle split without stratification and is slightly worse than k-fold."
   ]
  },
  {
   "cell_type": "markdown",
   "metadata": {},
   "source": [
    "## Stratified k-fold split"
   ]
  },
  {
   "cell_type": "code",
   "execution_count": 16,
   "metadata": {},
   "outputs": [
    {
     "data": {
      "text/html": [
       "<div>\n",
       "<style scoped>\n",
       "    .dataframe tbody tr th:only-of-type {\n",
       "        vertical-align: middle;\n",
       "    }\n",
       "\n",
       "    .dataframe tbody tr th {\n",
       "        vertical-align: top;\n",
       "    }\n",
       "\n",
       "    .dataframe thead th {\n",
       "        text-align: right;\n",
       "    }\n",
       "</style>\n",
       "<table border=\"1\" class=\"dataframe\">\n",
       "  <thead>\n",
       "    <tr style=\"text-align: right;\">\n",
       "      <th></th>\n",
       "      <th>QuadraticDiscriminantAnalysis</th>\n",
       "      <th>RandomForestClassifier</th>\n",
       "      <th>SVC</th>\n",
       "    </tr>\n",
       "    <tr>\n",
       "      <th>n_splits</th>\n",
       "      <th></th>\n",
       "      <th></th>\n",
       "      <th></th>\n",
       "    </tr>\n",
       "  </thead>\n",
       "  <tbody>\n",
       "    <tr>\n",
       "      <th>10</th>\n",
       "      <td>0.854636</td>\n",
       "      <td>0.757717</td>\n",
       "      <td>0.490532</td>\n",
       "    </tr>\n",
       "    <tr>\n",
       "      <th>20</th>\n",
       "      <td>0.849889</td>\n",
       "      <td>0.750526</td>\n",
       "      <td>0.501246</td>\n",
       "    </tr>\n",
       "    <tr>\n",
       "      <th>30</th>\n",
       "      <td>0.847496</td>\n",
       "      <td>0.768186</td>\n",
       "      <td>0.502340</td>\n",
       "    </tr>\n",
       "    <tr>\n",
       "      <th>40</th>\n",
       "      <td>0.853571</td>\n",
       "      <td>0.755628</td>\n",
       "      <td>0.500325</td>\n",
       "    </tr>\n",
       "    <tr>\n",
       "      <th>50</th>\n",
       "      <td>0.849632</td>\n",
       "      <td>0.750735</td>\n",
       "      <td>0.500809</td>\n",
       "    </tr>\n",
       "    <tr>\n",
       "      <th>60</th>\n",
       "      <td>0.851032</td>\n",
       "      <td>0.750397</td>\n",
       "      <td>0.502540</td>\n",
       "    </tr>\n",
       "    <tr>\n",
       "      <th>70</th>\n",
       "      <td>0.853480</td>\n",
       "      <td>0.745879</td>\n",
       "      <td>0.501557</td>\n",
       "    </tr>\n",
       "    <tr>\n",
       "      <th>80</th>\n",
       "      <td>0.857386</td>\n",
       "      <td>0.749659</td>\n",
       "      <td>0.499545</td>\n",
       "    </tr>\n",
       "    <tr>\n",
       "      <th>90</th>\n",
       "      <td>0.855556</td>\n",
       "      <td>0.745679</td>\n",
       "      <td>0.505432</td>\n",
       "    </tr>\n",
       "  </tbody>\n",
       "</table>\n",
       "</div>"
      ],
      "text/plain": [
       "          QuadraticDiscriminantAnalysis  RandomForestClassifier       SVC\n",
       "n_splits                                                                 \n",
       "10                             0.854636                0.757717  0.490532\n",
       "20                             0.849889                0.750526  0.501246\n",
       "30                             0.847496                0.768186  0.502340\n",
       "40                             0.853571                0.755628  0.500325\n",
       "50                             0.849632                0.750735  0.500809\n",
       "60                             0.851032                0.750397  0.502540\n",
       "70                             0.853480                0.745879  0.501557\n",
       "80                             0.857386                0.749659  0.499545\n",
       "90                             0.855556                0.745679  0.505432"
      ]
     },
     "execution_count": 16,
     "metadata": {},
     "output_type": "execute_result"
    }
   ],
   "source": [
    "cv_stratified_kfold_comp"
   ]
  },
  {
   "cell_type": "code",
   "execution_count": 17,
   "metadata": {},
   "outputs": [
    {
     "data": {
      "text/plain": [
       "<matplotlib.axes._subplots.AxesSubplot at 0x7f338073ae80>"
      ]
     },
     "execution_count": 17,
     "metadata": {},
     "output_type": "execute_result"
    },
    {
     "data": {
      "image/png": "[encoded data removed]",
      "text/plain": [
       "<Figure size 864x576 with 1 Axes>"
      ]
     },
     "metadata": {},
     "output_type": "display_data"
    }
   ],
   "source": [
    "cv_stratified_kfold_comp.plot.barh(legend=True)"
   ]
  },
  {
   "cell_type": "markdown",
   "metadata": {},
   "source": [
    "This gives the best accuracy, though it is just a tad better than the non-stratified k-fold split."
   ]
  },
  {
   "cell_type": "markdown",
   "metadata": {},
   "source": [
    "## Inference"
   ]
  },
  {
   "cell_type": "markdown",
   "metadata": {},
   "source": [
    "Our dataset is very small with only 846 samples, hence the difference in performance is not much.\n",
    "However, it should be kept in mind that we are using shuffle split with a 60-30 train-test split, while k-fold is using a larger training set.\n",
    "I'll do a short upgrade to the code in the coming days to compare them on similar fronts with respect to training size."
   ]
  },
  {
   "cell_type": "markdown",
   "metadata": {},
   "source": [
    "# Source code analysis: a low level exploration"
   ]
  },
  {
   "cell_type": "markdown",
   "metadata": {},
   "source": [
    "In this section I'll copy the most vital parts of the source codes of **shuffle split** and **k-fold** and analyse the internal working by splitting the code into several cells and printing the variables at each step.\n",
    "This is done as a comparison between the approaches taken by shuffle split and k-fold, hence their stratified versions are not explored."
   ]
  },
  {
   "cell_type": "markdown",
   "metadata": {},
   "source": [
    "## K-fold"
   ]
  },
  {
   "cell_type": "markdown",
   "metadata": {},
   "source": [
    "The k-fold split can be configured in the following manner:\n",
    "```\n",
    "model_selection.KFold(n_splits=10, shuffle=True, random_state=42)\n",
    "```\n",
    "* n_splits: Number of smaller sub-datasets or folds that the dataset will be broken into\n",
    "* shuffle: Whether to shuffle the data before splitting into folds\n",
    "* random_state: Seed used by the random number generator, it is used to replicate the same run multiple times.\n",
    "\n",
    "Internally, it has a function with the definition ```_iter_test_indices(self, X, y=None, groups=None)``` that returns (yields) the indices which would be used as test data for running the classifier while the remaining indices will be used as training data. Now, on subsequent calls to the function, the remaining folds are returned and the classifier is run as many times as the number of splits or folds. The mean accuracy is taken and the overall classifier becomes an ensemble of these similar classifiers which are trained on different sets and tested on different sets on an individual capacity.\n",
    "Note: The argument *groups* is probably needed in GroupKFold, I did not see its use in the function body of ```_iter_test_indices()```."
   ]
  },
  {
   "cell_type": "markdown",
   "metadata": {},
   "source": [
    "Please uncomment the cell below to view the source code of the class *KFold*."
   ]
  },
  {
   "cell_type": "code",
   "execution_count": 18,
   "metadata": {},
   "outputs": [],
   "source": [
    "# ??model_selection.KFold"
   ]
  },
  {
   "cell_type": "markdown",
   "metadata": {},
   "source": [
    "The following cells are just the body of the function ```_iter_test_indices()``` split up into several cells so that the internal flow can be understood clearly."
   ]
  },
  {
   "cell_type": "code",
   "execution_count": 19,
   "metadata": {},
   "outputs": [],
   "source": [
    "from sklearn.utils.validation import _num_samples\n",
    "from sklearn.utils import check_random_state  # Mandatory import for using shuffle"
   ]
  },
  {
   "cell_type": "markdown",
   "metadata": {},
   "source": [
    "We begin by setting the input arguments of the *KFold* constructor manually."
   ]
  },
  {
   "cell_type": "code",
   "execution_count": 20,
   "metadata": {},
   "outputs": [],
   "source": [
    "n_splits = 10\n",
    "shuffle = True\n",
    "random_state = 42"
   ]
  },
  {
   "cell_type": "markdown",
   "metadata": {},
   "source": [
    "After that, we obtain the number of datapoints in X."
   ]
  },
  {
   "cell_type": "code",
   "execution_count": 21,
   "metadata": {},
   "outputs": [
    {
     "name": "stdout",
     "output_type": "stream",
     "text": [
      "846\n"
     ]
    }
   ],
   "source": [
    "n_samples = _num_samples(X)\n",
    "print(n_samples)"
   ]
  },
  {
   "cell_type": "markdown",
   "metadata": {},
   "source": [
    "Having done that, we obtain an evenly spaced 1-d array listing all values from 0 till n_samples."
   ]
  },
  {
   "cell_type": "code",
   "execution_count": 22,
   "metadata": {},
   "outputs": [
    {
     "name": "stdout",
     "output_type": "stream",
     "text": [
      "[  0   1   2   3   4   5   6   7   8   9  10  11  12  13  14  15  16  17\n",
      "  18  19  20  21  22  23  24  25  26  27  28  29  30  31  32  33  34  35\n",
      "  36  37  38  39  40  41  42  43  44  45  46  47  48  49  50  51  52  53\n",
      "  54  55  56  57  58  59  60  61  62  63  64  65  66  67  68  69  70  71\n",
      "  72  73  74  75  76  77  78  79  80  81  82  83  84  85  86  87  88  89\n",
      "  90  91  92  93  94  95  96  97  98  99 100 101 102 103 104 105 106 107\n",
      " 108 109 110 111 112 113 114 115 116 117 118 119 120 121 122 123 124 125\n",
      " 126 127 128 129 130 131 132 133 134 135 136 137 138 139 140 141 142 143\n",
      " 144 145 146 147 148 149 150 151 152 153 154 155 156 157 158 159 160 161\n",
      " 162 163 164 165 166 167 168 169 170 171 172 173 174 175 176 177 178 179\n",
      " 180 181 182 183 184 185 186 187 188 189 190 191 192 193 194 195 196 197\n",
      " 198 199 200 201 202 203 204 205 206 207 208 209 210 211 212 213 214 215\n",
      " 216 217 218 219 220 221 222 223 224 225 226 227 228 229 230 231 232 233\n",
      " 234 235 236 237 238 239 240 241 242 243 244 245 246 247 248 249 250 251\n",
      " 252 253 254 255 256 257 258 259 260 261 262 263 264 265 266 267 268 269\n",
      " 270 271 272 273 274 275 276 277 278 279 280 281 282 283 284 285 286 287\n",
      " 288 289 290 291 292 293 294 295 296 297 298 299 300 301 302 303 304 305\n",
      " 306 307 308 309 310 311 312 313 314 315 316 317 318 319 320 321 322 323\n",
      " 324 325 326 327 328 329 330 331 332 333 334 335 336 337 338 339 340 341\n",
      " 342 343 344 345 346 347 348 349 350 351 352 353 354 355 356 357 358 359\n",
      " 360 361 362 363 364 365 366 367 368 369 370 371 372 373 374 375 376 377\n",
      " 378 379 380 381 382 383 384 385 386 387 388 389 390 391 392 393 394 395\n",
      " 396 397 398 399 400 401 402 403 404 405 406 407 408 409 410 411 412 413\n",
      " 414 415 416 417 418 419 420 421 422 423 424 425 426 427 428 429 430 431\n",
      " 432 433 434 435 436 437 438 439 440 441 442 443 444 445 446 447 448 449\n",
      " 450 451 452 453 454 455 456 457 458 459 460 461 462 463 464 465 466 467\n",
      " 468 469 470 471 472 473 474 475 476 477 478 479 480 481 482 483 484 485\n",
      " 486 487 488 489 490 491 492 493 494 495 496 497 498 499 500 501 502 503\n",
      " 504 505 506 507 508 509 510 511 512 513 514 515 516 517 518 519 520 521\n",
      " 522 523 524 525 526 527 528 529 530 531 532 533 534 535 536 537 538 539\n",
      " 540 541 542 543 544 545 546 547 548 549 550 551 552 553 554 555 556 557\n",
      " 558 559 560 561 562 563 564 565 566 567 568 569 570 571 572 573 574 575\n",
      " 576 577 578 579 580 581 582 583 584 585 586 587 588 589 590 591 592 593\n",
      " 594 595 596 597 598 599 600 601 602 603 604 605 606 607 608 609 610 611\n",
      " 612 613 614 615 616 617 618 619 620 621 622 623 624 625 626 627 628 629\n",
      " 630 631 632 633 634 635 636 637 638 639 640 641 642 643 644 645 646 647\n",
      " 648 649 650 651 652 653 654 655 656 657 658 659 660 661 662 663 664 665\n",
      " 666 667 668 669 670 671 672 673 674 675 676 677 678 679 680 681 682 683\n",
      " 684 685 686 687 688 689 690 691 692 693 694 695 696 697 698 699 700 701\n",
      " 702 703 704 705 706 707 708 709 710 711 712 713 714 715 716 717 718 719\n",
      " 720 721 722 723 724 725 726 727 728 729 730 731 732 733 734 735 736 737\n",
      " 738 739 740 741 742 743 744 745 746 747 748 749 750 751 752 753 754 755\n",
      " 756 757 758 759 760 761 762 763 764 765 766 767 768 769 770 771 772 773\n",
      " 774 775 776 777 778 779 780 781 782 783 784 785 786 787 788 789 790 791\n",
      " 792 793 794 795 796 797 798 799 800 801 802 803 804 805 806 807 808 809\n",
      " 810 811 812 813 814 815 816 817 818 819 820 821 822 823 824 825 826 827\n",
      " 828 829 830 831 832 833 834 835 836 837 838 839 840 841 842 843 844 845]\n"
     ]
    }
   ],
   "source": [
    "indices = np.arange(n_samples)\n",
    "print(indices)"
   ]
  },
  {
   "cell_type": "markdown",
   "metadata": {},
   "source": [
    "If *shuffle* is True, all indices are shuffled according to the *random_state* seed, else, the *indices* array is kept as it was."
   ]
  },
  {
   "cell_type": "code",
   "execution_count": 23,
   "metadata": {},
   "outputs": [
    {
     "name": "stdout",
     "output_type": "stream",
     "text": [
      "[ 39 250 314  96 198 110 328 306 433 428 712 745 139 536 810 784 351 292\n",
      " 833 215 541  86 439 772 209 342 425  30 754 254 355 436 669 227 732 731\n",
      " 598 468 558 736 244 266 196 779 583 506 239 316 109 429 396 319  23 742\n",
      " 218 280 409  67 806 766 733 514 192  78  66  63 552 323  65 359 422 494\n",
      " 120 294 137 521 832 827  49 842 168 204 630 596 841  33  31 333 621 434\n",
      " 623 500 464 299  72  77 838 537 398 501 361 764 426 420 368 275 625 762\n",
      " 365 331 597 638 290   5  54 572 794 821 773 377  97 811  76 174 799 809\n",
      " 286 477 710 823  84  10 691 247 738 118 697 260  29 212 781 525 676  81\n",
      " 618 327 532 210 231 723 659 678 444 549 755 703 685   7 350 155 672 101\n",
      " 801 530 332 792   2 760 778 311 665 633 570 788 539 673 259 543 660 483\n",
      " 765  79 148 380 548 746 694 211 334 208 133 628 756 518  55 610 637 739\n",
      " 591 713 582 693 382 479 412  60 199 604 603 213 576 481 559 615 658 302\n",
      " 671 761  90 793 181 448 394 362 158  69 431 131  44 291  70 336 798 338\n",
      " 450 135  82 165 164  28 442 193 265 547 417 136 542 567 140 173   6 551\n",
      " 432 235 300  73 586 753 405 145 234 220 326 344 132 487 281 462  41 523\n",
      " 108 554  56 352 780 445  24 826 381 709  51 360 777 544 264 388 585 363\n",
      " 309  18 640 296  83  61 706 285 485 822 486 182 375 528 223 840 593 346\n",
      " 357 482 522 176 680 393 163 248 545 812  74 113 457 440 104 114 451  92\n",
      " 836  89 467 786 787 519 687  94  11 383  43  42 329 167 740 513 679 447\n",
      " 178 557 800 177 580 675 587 257 770 335 527  15   3 626 256 581 424 367\n",
      " 222 453 404 653 324 497   9 249  22 356 221 698 727 830 495 340 707 203\n",
      " 237  93 844 411 535 284 184 684 538 153  75 744 526 277  68 689 188 271\n",
      " 829 531 236  88 718 117 125 695 289 238   0 837 728 737 395 499 507 278\n",
      " 656 116 228 594 456 651 274 318 578 144 605 534 768 613 369 268 595 307\n",
      " 423 310 490  46 349 371 602 261 195 845 708 107  59 629 478 100 443 579\n",
      " 759 611 493 179 304 465  57 815 149 124 668 734 185 568  50 606 446 835\n",
      " 512 321 353 804 142 470 370 682 141 399 263 320  19 172 688 312 390 789\n",
      "  12 407 408 305 354  25 662 169 533  38 175 245 298 704 416 575 272 473\n",
      " 643 725 154 126 449 599 341 430 287 516  17 127 322 255 634 813 190 115\n",
      " 529 180 301 657 677 620 588 569 517 831  45 767 157 635 171  16 511  48\n",
      " 819 515 589 480 283 795 225  26 664 437 364 229  37 814 374 469 816 751\n",
      " 622 194 721 730 503 818 705 817 162 601 152 584 790 644 111 226 590 103\n",
      " 421 419 119  53 151 403 797 207 714 650   8 802  36 452 253 303 636 571\n",
      " 652 616 262 297 414 150 670 749 550 488 147 146 617 785 631 348 463 325\n",
      " 186 123 720 608 143 808 197 609 279 293 400 122 183 202 438 246 415 750\n",
      " 129 402 666 655 825 219 771 641 774 624 711 649 386 820 509 267 696 441\n",
      " 496 112 232 735 607 373 233 667 317 648 410 758 358 258 627 632 282 376\n",
      " 384 224 803 692 472 347 505 639 834 783 763 619 722 645 715 556 807 577\n",
      "  85 242 159 524  35 540 170 654 752 716 796  95 563 240 574 690 460 553\n",
      " 741 206 392 397 717 217   4 642 757 612 546 683  98 573 406 502  47  32\n",
      " 200 134  27 743 230 489 378 288 418 674 391 592 498 138  62 471 647 128\n",
      " 824 520  64  14 156  40 492 379 187 216  52 337 748 719 724 295 701 251\n",
      " 726 461 455 843 269 201 161 555 729 401 702 476 105 565 389   1 791 561\n",
      "  80 205  34 775 508 427 454 366  91 339 564 345 776 241  13 315 600 387\n",
      " 273 166 839 646 484 828 504 243 566 562 686 189 782 699 475 681 510  58\n",
      " 474 560 747 252  21 313 459 160 276 191 385 805 413 491 343 769 308 661\n",
      " 130 663  99 372  87 458 330 214 466 121 614  20 700  71 106 270 435 102]\n"
     ]
    }
   ],
   "source": [
    "if shuffle:\n",
    "    check_random_state(random_state).shuffle(indices)\n",
    "print(indices)"
   ]
  },
  {
   "cell_type": "markdown",
   "metadata": {},
   "source": [
    "Next, we calculate the size of each of the *n_splits* number of smaller datasets (or folds) that the entire dataset would be split into."
   ]
  },
  {
   "cell_type": "code",
   "execution_count": 24,
   "metadata": {},
   "outputs": [
    {
     "name": "stdout",
     "output_type": "stream",
     "text": [
      "[84 84 84 84 84 84 84 84 84 84]\n",
      "840\n",
      "846\n"
     ]
    }
   ],
   "source": [
    "fold_sizes = np.full(n_splits, n_samples // n_splits, dtype=np.int)\n",
    "print(fold_sizes)\n",
    "print(sum(fold_sizes))\n",
    "print(n_samples)"
   ]
  },
  {
   "cell_type": "markdown",
   "metadata": {},
   "source": [
    "Equal splitting has caused some datapoints to be left out (6 in this case), so we accommodate them in the first 6 splits, increasing the size of each of the first 6 folds by 1."
   ]
  },
  {
   "cell_type": "code",
   "execution_count": 25,
   "metadata": {},
   "outputs": [
    {
     "name": "stdout",
     "output_type": "stream",
     "text": [
      "[85 85 85 85 85 85 84 84 84 84]\n"
     ]
    }
   ],
   "source": [
    "fold_sizes[:n_samples % n_splits] += 1\n",
    "print(fold_sizes)"
   ]
  },
  {
   "cell_type": "code",
   "execution_count": 26,
   "metadata": {},
   "outputs": [
    {
     "name": "stdout",
     "output_type": "stream",
     "text": [
      "[ 39 250 314  96 198 110 328 306 433 428 712 745 139 536 810 784 351 292\n",
      " 833 215 541  86 439 772 209 342 425  30 754 254 355 436 669 227 732 731\n",
      " 598 468 558 736 244 266 196 779 583 506 239 316 109 429 396 319  23 742\n",
      " 218 280 409  67 806 766 733 514 192  78  66  63 552 323  65 359 422 494\n",
      " 120 294 137 521 832 827  49 842 168 204 630 596 841] \n",
      "\n",
      "[ 33  31 333 621 434 623 500 464 299  72  77 838 537 398 501 361 764 426\n",
      " 420 368 275 625 762 365 331 597 638 290   5  54 572 794 821 773 377  97\n",
      " 811  76 174 799 809 286 477 710 823  84  10 691 247 738 118 697 260  29\n",
      " 212 781 525 676  81 618 327 532 210 231 723 659 678 444 549 755 703 685\n",
      "   7 350 155 672 101 801 530 332 792   2 760 778 311] \n",
      "\n",
      "[665 633 570 788 539 673 259 543 660 483 765  79 148 380 548 746 694 211\n",
      " 334 208 133 628 756 518  55 610 637 739 591 713 582 693 382 479 412  60\n",
      " 199 604 603 213 576 481 559 615 658 302 671 761  90 793 181 448 394 362\n",
      " 158  69 431 131  44 291  70 336 798 338 450 135  82 165 164  28 442 193\n",
      " 265 547 417 136 542 567 140 173   6 551 432 235 300] \n",
      "\n",
      "[ 73 586 753 405 145 234 220 326 344 132 487 281 462  41 523 108 554  56\n",
      " 352 780 445  24 826 381 709  51 360 777 544 264 388 585 363 309  18 640\n",
      " 296  83  61 706 285 485 822 486 182 375 528 223 840 593 346 357 482 522\n",
      " 176 680 393 163 248 545 812  74 113 457 440 104 114 451  92 836  89 467\n",
      " 786 787 519 687  94  11 383  43  42 329 167 740 513] \n",
      "\n",
      "[679 447 178 557 800 177 580 675 587 257 770 335 527  15   3 626 256 581\n",
      " 424 367 222 453 404 653 324 497   9 249  22 356 221 698 727 830 495 340\n",
      " 707 203 237  93 844 411 535 284 184 684 538 153  75 744 526 277  68 689\n",
      " 188 271 829 531 236  88 718 117 125 695 289 238   0 837 728 737 395 499\n",
      " 507 278 656 116 228 594 456 651 274 318 578 144 605] \n",
      "\n",
      "[534 768 613 369 268 595 307 423 310 490  46 349 371 602 261 195 845 708\n",
      " 107  59 629 478 100 443 579 759 611 493 179 304 465  57 815 149 124 668\n",
      " 734 185 568  50 606 446 835 512 321 353 804 142 470 370 682 141 399 263\n",
      " 320  19 172 688 312 390 789  12 407 408 305 354  25 662 169 533  38 175\n",
      " 245 298 704 416 575 272 473 643 725 154 126 449 599] \n",
      "\n",
      "[341 430 287 516  17 127 322 255 634 813 190 115 529 180 301 657 677 620\n",
      " 588 569 517 831  45 767 157 635 171  16 511  48 819 515 589 480 283 795\n",
      " 225  26 664 437 364 229  37 814 374 469 816 751 622 194 721 730 503 818\n",
      " 705 817 162 601 152 584 790 644 111 226 590 103 421 419 119  53 151 403\n",
      " 797 207 714 650   8 802  36 452 253 303 636 571] \n",
      "\n",
      "[652 616 262 297 414 150 670 749 550 488 147 146 617 785 631 348 463 325\n",
      " 186 123 720 608 143 808 197 609 279 293 400 122 183 202 438 246 415 750\n",
      " 129 402 666 655 825 219 771 641 774 624 711 649 386 820 509 267 696 441\n",
      " 496 112 232 735 607 373 233 667 317 648 410 758 358 258 627 632 282 376\n",
      " 384 224 803 692 472 347 505 639 834 783 763 619] \n",
      "\n",
      "[722 645 715 556 807 577  85 242 159 524  35 540 170 654 752 716 796  95\n",
      " 563 240 574 690 460 553 741 206 392 397 717 217   4 642 757 612 546 683\n",
      "  98 573 406 502  47  32 200 134  27 743 230 489 378 288 418 674 391 592\n",
      " 498 138  62 471 647 128 824 520  64  14 156  40 492 379 187 216  52 337\n",
      " 748 719 724 295 701 251 726 461 455 843 269 201] \n",
      "\n",
      "[161 555 729 401 702 476 105 565 389   1 791 561  80 205  34 775 508 427\n",
      " 454 366  91 339 564 345 776 241  13 315 600 387 273 166 839 646 484 828\n",
      " 504 243 566 562 686 189 782 699 475 681 510  58 474 560 747 252  21 313\n",
      " 459 160 276 191 385 805 413 491 343 769 308 661 130 663  99 372  87 458\n",
      " 330 214 466 121 614  20 700  71 106 270 435 102] \n",
      "\n"
     ]
    }
   ],
   "source": [
    "# current stores 1 plus the the last index of the last fold returned (i.e., the beginning index of the current fold).\n",
    "# However, it is initialized to 0 and is updated inside the for loop every time a fold is returned (or yielded).\n",
    "current = 0\n",
    "# The loop is supposed to iterate once each time the original function (of which this code snippet is a part)\n",
    "# is called due to the yield statement inside (has been commented out in this snippet). \n",
    "for fold_size in fold_sizes:\n",
    "    # The starting and ending indices of the current fold are computed.\n",
    "    start, stop = current, current + fold_size\n",
    "    \n",
    "    # Originally, the code is part of a function and has a yield statement so that every time the function is called,\n",
    "    # it can resume from the line succeeding the yield statement. However, since this is for demonstration purposes\n",
    "    # and is not part of a function, I have commented out the yield statement and have written a print statement\n",
    "    # instead to understand what it would have returned.\n",
    "    \n",
    "    # yield indices[start:stop]\n",
    "    print(indices[start:stop], '\\n')\n",
    "    current = stop"
   ]
  },
  {
   "cell_type": "markdown",
   "metadata": {},
   "source": [
    "After the indices of the test set is obtained, the remaining datapoints are used for training the classifier. I am not going into that part of the source code because that is quite procedural and straightforward, not interesting to explore."
   ]
  },
  {
   "cell_type": "markdown",
   "metadata": {},
   "source": [
    "## Shuffle split"
   ]
  },
  {
   "cell_type": "markdown",
   "metadata": {},
   "source": [
    "The shuffle split cross-validator can be configured in the following manner:\n",
    "```\n",
    "model_selection.ShuffleSplit(n_splits = 10, test_size = .3, train_size = .6, random_state = 42)\n",
    "```\n",
    "We notice that the train and test sizes can be configured separately.\n",
    "\n",
    "Since shuffle split is just a normal train-test split spearately performed *n_split* number of times, we will do only an overview of the internal working."
   ]
  },
  {
   "cell_type": "markdown",
   "metadata": {},
   "source": [
    "Please uncomment the following cell to view the source code of shuffle split."
   ]
  },
  {
   "cell_type": "code",
   "execution_count": 27,
   "metadata": {},
   "outputs": [],
   "source": [
    "# ??model_selection.ShuffleSplit"
   ]
  },
  {
   "cell_type": "code",
   "execution_count": 28,
   "metadata": {},
   "outputs": [],
   "source": [
    "from sklearn.model_selection._split import _validate_shuffle_split  # Used internally"
   ]
  },
  {
   "cell_type": "code",
   "execution_count": 29,
   "metadata": {},
   "outputs": [],
   "source": [
    "n_splits = 10\n",
    "test_size = 0.3\n",
    "train_size = 0.6\n",
    "random_state = 42\n",
    "_default_test_size = 0.1  # Not used here but is originally used when train and test sizes are not provided"
   ]
  },
  {
   "cell_type": "code",
   "execution_count": 30,
   "metadata": {},
   "outputs": [
    {
     "name": "stdout",
     "output_type": "stream",
     "text": [
      "507\n",
      "254\n"
     ]
    }
   ],
   "source": [
    "n_samples = _num_samples(X)\n",
    "# _validate_shuffle_split() checks if the test/test sizes are meaningful wrt to the\n",
    "# size of the data (n_samples)\n",
    "\n",
    "n_train, n_test = _validate_shuffle_split(\n",
    "    n_samples, test_size, train_size,\n",
    "    default_test_size=_default_test_size)\n",
    "print(n_train)\n",
    "print(n_test)"
   ]
  },
  {
   "cell_type": "code",
   "execution_count": 31,
   "metadata": {},
   "outputs": [],
   "source": [
    "rng = check_random_state(random_state)  # Create the random number generatpr with the given seed"
   ]
  },
  {
   "cell_type": "code",
   "execution_count": 32,
   "metadata": {},
   "outputs": [
    {
     "name": "stdout",
     "output_type": "stream",
     "text": [
      "507\n",
      "254\n",
      "507\n",
      "254\n",
      "507\n",
      "254\n",
      "507\n",
      "254\n",
      "507\n",
      "254\n",
      "507\n",
      "254\n",
      "507\n",
      "254\n",
      "507\n",
      "254\n",
      "507\n",
      "254\n",
      "507\n",
      "254\n"
     ]
    }
   ],
   "source": [
    "for i in range(n_splits):\n",
    "    permutation = rng.permutation(n_samples)  # Create a random partition\n",
    "    ind_test = permutation[:n_test]  # Store indices of the test set\n",
    "    ind_train = permutation[n_test:(n_test + n_train)]  # # Store indices of the training set\n",
    "    # The yield statement is replaced with a print statement so that we can observe what is being yielded.\n",
    "    \n",
    "    # yield ind_train, ind_test\n",
    "    \n",
    "    # Only the size is printed to keep the output small.\n",
    "    print(len(ind_train))\n",
    "    print(len(ind_test))"
   ]
  },
  {
   "cell_type": "markdown",
   "metadata": {},
   "source": [
    "The size matches the 60-30 split we intended to do. It is also evident from the source code that there is no specific effort directed towards creating unique test sets for each batch as random samples are taken for each set. Of course, that is what makes it different from k-fold."
   ]
  },
  {
   "cell_type": "markdown",
   "metadata": {},
   "source": [
    "# Something I missed out on..."
   ]
  },
  {
   "cell_type": "markdown",
   "metadata": {},
   "source": [
    "Although I gained great insight from this exploration, there are still a few things that I would love to integrate in the next few days:\n",
    "* Create a separate untouched test set on which all the trained classifiers will be run (this is actually quite important)\n",
    "* Compare the shuffle split and k-fold techniques on similar fronts with respect to train-test size.\n",
    "\n",
    "I am eagerly waiting for your suggestions and ideas that can make this exploration even more interesting :D"
   ]
  }
 ],
 "metadata": {
  "kernelspec": {
   "display_name": "Python 3",
   "language": "python",
   "name": "python3"
  },
  "language_info": {
   "codemirror_mode": {
    "name": "ipython",
    "version": 3
   },
   "file_extension": ".py",
   "mimetype": "text/x-python",
   "name": "python",
   "nbconvert_exporter": "python",
   "pygments_lexer": "ipython3",
   "version": "3.8.1"
  }
 },
 "nbformat": 4,
 "nbformat_minor": 2
}
