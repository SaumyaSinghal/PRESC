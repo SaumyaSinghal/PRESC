{
 "cells": [
  {
   "cell_type": "markdown",
   "metadata": {},
   "source": [
    "# Import libraries"
   ]
  },
  {
   "cell_type": "code",
   "execution_count": 27,
   "metadata": {},
   "outputs": [
    {
     "name": "stdout",
     "output_type": "stream",
     "text": [
      "The autoreload extension is already loaded. To reload it, use:\n",
      "  %reload_ext autoreload\n"
     ]
    }
   ],
   "source": [
    "import pandas as pd\n",
    "import numpy as np\n",
    "from itertools import cycle\n",
    "import time\n",
    "import statistics\n",
    "\n",
    "import sklearn\n",
    "from sklearn import svm, tree, linear_model, neighbors, naive_bayes, ensemble, discriminant_analysis, gaussian_process\n",
    "from sklearn import model_selection\n",
    "from sklearn import feature_selection\n",
    "from sklearn import decomposition\n",
    "from sklearn.preprocessing import LabelEncoder\n",
    "from sklearn.preprocessing import label_binarize\n",
    "from sklearn.multiclass import OneVsRestClassifier\n",
    "from sklearn import metrics\n",
    "from sklearn.metrics import roc_curve, auc, roc_auc_score, precision_recall_curve, average_precision_score\n",
    "from scipy import interp\n",
    "import matplotlib\n",
    "import matplotlib.pyplot as plt\n",
    "import matplotlib.pylab as pylab\n",
    "import seaborn as sns\n",
    "\n",
    "%load_ext autoreload\n",
    "%autoreload 2\n",
    "%matplotlib inline\n",
    "matplotlib.style.use('ggplot')\n",
    "sns.set_style('white')\n",
    "pylab.rcParams['figure.figsize'] = 12,8"
   ]
  },
  {
   "cell_type": "markdown",
   "metadata": {},
   "source": [
    "## Import the custom helper files"
   ]
  },
  {
   "cell_type": "code",
   "execution_count": 28,
   "metadata": {},
   "outputs": [],
   "source": [
    "from algorithm_helpers import *\n",
    "from visualisation_helpers import *"
   ]
  },
  {
   "cell_type": "code",
   "execution_count": 29,
   "metadata": {},
   "outputs": [],
   "source": [
    "#Optional\n",
    "import warnings\n",
    "warnings.filterwarnings('ignore') # Logistic regression does not converge and the warnings are pretty long"
   ]
  },
  {
   "cell_type": "markdown",
   "metadata": {},
   "source": [
    "# Load the dataset"
   ]
  },
  {
   "cell_type": "code",
   "execution_count": 30,
   "metadata": {},
   "outputs": [],
   "source": [
    "path = '../../datasets/vehicles.csv'  # Path to dataset\n",
    "df = pd.read_csv(path)"
   ]
  },
  {
   "cell_type": "code",
   "execution_count": 31,
   "metadata": {},
   "outputs": [],
   "source": [
    "X = df.drop(labels='Class', axis=1)  # Drop the target attribute from the X variable\n",
    "y = df.Class  # The target attribute to be predicted"
   ]
  },
  {
   "cell_type": "code",
   "execution_count": 32,
   "metadata": {},
   "outputs": [],
   "source": [
    "train_X, test_X, train_y, test_y = model_selection.train_test_split(X, y, test_size=0.2, stratify=y, random_state=42)"
   ]
  },
  {
   "cell_type": "code",
   "execution_count": 33,
   "metadata": {},
   "outputs": [],
   "source": [
    "MLA_dict = get_algorithms()\n",
    "MLA = [clf for clf in MLA_dict.values()]\n",
    "cv_split = model_selection.KFold(n_splits=10, shuffle=True)\n",
    "MLA_com, MLA_pred = run_models(MLA, X, y, train_X, train_y, test_X, cv_split)"
   ]
  },
  {
   "cell_type": "code",
   "execution_count": 34,
   "metadata": {},
   "outputs": [
    {
     "data": {
      "text/html": [
       "<div>\n",
       "<style scoped>\n",
       "    .dataframe tbody tr th:only-of-type {\n",
       "        vertical-align: middle;\n",
       "    }\n",
       "\n",
       "    .dataframe tbody tr th {\n",
       "        vertical-align: top;\n",
       "    }\n",
       "\n",
       "    .dataframe thead th {\n",
       "        text-align: right;\n",
       "    }\n",
       "</style>\n",
       "<table border=\"1\" class=\"dataframe\">\n",
       "  <thead>\n",
       "    <tr style=\"text-align: right;\">\n",
       "      <th></th>\n",
       "      <th>MLA Name</th>\n",
       "      <th>MLA Parameters</th>\n",
       "      <th>MLA Train Accuracy Mean</th>\n",
       "      <th>MLA Test Accuracy Mean</th>\n",
       "      <th>MLA Test Accuracy 3*STD</th>\n",
       "      <th>MLA Time</th>\n",
       "    </tr>\n",
       "  </thead>\n",
       "  <tbody>\n",
       "    <tr>\n",
       "      <th>20</th>\n",
       "      <td>QuadraticDiscriminantAnalysis</td>\n",
       "      <td>{'priors': None, 'reg_param': 0.0, 'store_cova...</td>\n",
       "      <td>0.914632</td>\n",
       "      <td>0.851134</td>\n",
       "      <td>0.122078</td>\n",
       "      <td>0.005029</td>\n",
       "    </tr>\n",
       "    <tr>\n",
       "      <th>6</th>\n",
       "      <td>LogisticRegressionCV</td>\n",
       "      <td>{'Cs': 10, 'class_weight': None, 'cv': None, '...</td>\n",
       "      <td>0.836223</td>\n",
       "      <td>0.798950</td>\n",
       "      <td>0.090560</td>\n",
       "      <td>0.849299</td>\n",
       "    </tr>\n",
       "    <tr>\n",
       "      <th>16</th>\n",
       "      <td>LinearSVC</td>\n",
       "      <td>{'C': 1.0, 'class_weight': None, 'dual': True,...</td>\n",
       "      <td>0.815998</td>\n",
       "      <td>0.787395</td>\n",
       "      <td>0.125487</td>\n",
       "      <td>0.104647</td>\n",
       "    </tr>\n",
       "    <tr>\n",
       "      <th>15</th>\n",
       "      <td>NuSVC</td>\n",
       "      <td>{'break_ties': False, 'cache_size': 200, 'clas...</td>\n",
       "      <td>0.870634</td>\n",
       "      <td>0.783838</td>\n",
       "      <td>0.163486</td>\n",
       "      <td>0.149166</td>\n",
       "    </tr>\n",
       "    <tr>\n",
       "      <th>19</th>\n",
       "      <td>LinearDiscriminantAnalysis</td>\n",
       "      <td>{'n_components': None, 'priors': None, 'shrink...</td>\n",
       "      <td>0.796562</td>\n",
       "      <td>0.781429</td>\n",
       "      <td>0.154081</td>\n",
       "      <td>0.008415</td>\n",
       "    </tr>\n",
       "    <tr>\n",
       "      <th>14</th>\n",
       "      <td>SVC</td>\n",
       "      <td>{'C': 1.0, 'break_ties': False, 'cache_size': ...</td>\n",
       "      <td>0.843973</td>\n",
       "      <td>0.774174</td>\n",
       "      <td>0.094228</td>\n",
       "      <td>0.091901</td>\n",
       "    </tr>\n",
       "    <tr>\n",
       "      <th>3</th>\n",
       "      <td>GradientBoostingClassifier</td>\n",
       "      <td>{'ccp_alpha': 0.0, 'criterion': 'friedman_mse'...</td>\n",
       "      <td>0.988967</td>\n",
       "      <td>0.768487</td>\n",
       "      <td>0.126499</td>\n",
       "      <td>0.762102</td>\n",
       "    </tr>\n",
       "    <tr>\n",
       "      <th>8</th>\n",
       "      <td>RidgeClassifierCV</td>\n",
       "      <td>{'alphas': array([ 0.1,  1. , 10. ]), 'class_w...</td>\n",
       "      <td>0.777384</td>\n",
       "      <td>0.758725</td>\n",
       "      <td>0.103688</td>\n",
       "      <td>0.007445</td>\n",
       "    </tr>\n",
       "    <tr>\n",
       "      <th>1</th>\n",
       "      <td>BaggingClassifier</td>\n",
       "      <td>{'base_estimator': None, 'bootstrap': True, 'b...</td>\n",
       "      <td>0.991856</td>\n",
       "      <td>0.757717</td>\n",
       "      <td>0.123950</td>\n",
       "      <td>0.036028</td>\n",
       "    </tr>\n",
       "    <tr>\n",
       "      <th>9</th>\n",
       "      <td>SGDClassifier</td>\n",
       "      <td>{'alpha': 0.0001, 'average': False, 'class_wei...</td>\n",
       "      <td>0.763069</td>\n",
       "      <td>0.754076</td>\n",
       "      <td>0.139929</td>\n",
       "      <td>0.010877</td>\n",
       "    </tr>\n",
       "    <tr>\n",
       "      <th>4</th>\n",
       "      <td>RandomForestClassifier</td>\n",
       "      <td>{'bootstrap': True, 'ccp_alpha': 0.0, 'class_w...</td>\n",
       "      <td>1.000000</td>\n",
       "      <td>0.753123</td>\n",
       "      <td>0.173929</td>\n",
       "      <td>0.200618</td>\n",
       "    </tr>\n",
       "    <tr>\n",
       "      <th>10</th>\n",
       "      <td>Perceptron</td>\n",
       "      <td>{'alpha': 0.0001, 'class_weight': None, 'early...</td>\n",
       "      <td>0.745465</td>\n",
       "      <td>0.734062</td>\n",
       "      <td>0.168088</td>\n",
       "      <td>0.006311</td>\n",
       "    </tr>\n",
       "    <tr>\n",
       "      <th>2</th>\n",
       "      <td>ExtraTreesClassifier</td>\n",
       "      <td>{'bootstrap': False, 'ccp_alpha': 0.0, 'class_...</td>\n",
       "      <td>1.000000</td>\n",
       "      <td>0.730462</td>\n",
       "      <td>0.116723</td>\n",
       "      <td>0.134771</td>\n",
       "    </tr>\n",
       "    <tr>\n",
       "      <th>5</th>\n",
       "      <td>GaussianProcessClassifier</td>\n",
       "      <td>{'copy_X_train': True, 'kernel': None, 'max_it...</td>\n",
       "      <td>0.954164</td>\n",
       "      <td>0.720994</td>\n",
       "      <td>0.196854</td>\n",
       "      <td>1.829191</td>\n",
       "    </tr>\n",
       "    <tr>\n",
       "      <th>13</th>\n",
       "      <td>KNeighborsClassifier</td>\n",
       "      <td>{'algorithm': 'auto', 'leaf_size': 30, 'metric...</td>\n",
       "      <td>0.825190</td>\n",
       "      <td>0.715224</td>\n",
       "      <td>0.198801</td>\n",
       "      <td>0.003884</td>\n",
       "    </tr>\n",
       "    <tr>\n",
       "      <th>17</th>\n",
       "      <td>DecisionTreeClassifier</td>\n",
       "      <td>{'ccp_alpha': 0.0, 'class_weight': None, 'crit...</td>\n",
       "      <td>1.000000</td>\n",
       "      <td>0.712731</td>\n",
       "      <td>0.097183</td>\n",
       "      <td>0.008627</td>\n",
       "    </tr>\n",
       "    <tr>\n",
       "      <th>7</th>\n",
       "      <td>PassiveAggressiveClassifier</td>\n",
       "      <td>{'C': 1.0, 'average': False, 'class_weight': N...</td>\n",
       "      <td>0.735221</td>\n",
       "      <td>0.707997</td>\n",
       "      <td>0.163888</td>\n",
       "      <td>0.012262</td>\n",
       "    </tr>\n",
       "    <tr>\n",
       "      <th>18</th>\n",
       "      <td>ExtraTreeClassifier</td>\n",
       "      <td>{'ccp_alpha': 0.0, 'class_weight': None, 'crit...</td>\n",
       "      <td>1.000000</td>\n",
       "      <td>0.638207</td>\n",
       "      <td>0.107752</td>\n",
       "      <td>0.004892</td>\n",
       "    </tr>\n",
       "    <tr>\n",
       "      <th>0</th>\n",
       "      <td>AdaBoostClassifier</td>\n",
       "      <td>{'algorithm': 'SAMME.R', 'base_estimator': Non...</td>\n",
       "      <td>0.622935</td>\n",
       "      <td>0.590910</td>\n",
       "      <td>0.164300</td>\n",
       "      <td>0.090277</td>\n",
       "    </tr>\n",
       "    <tr>\n",
       "      <th>11</th>\n",
       "      <td>BernoulliNB</td>\n",
       "      <td>{'alpha': 1.0, 'binarize': 0.0, 'class_prior':...</td>\n",
       "      <td>0.469396</td>\n",
       "      <td>0.450336</td>\n",
       "      <td>0.171572</td>\n",
       "      <td>0.004701</td>\n",
       "    </tr>\n",
       "    <tr>\n",
       "      <th>12</th>\n",
       "      <td>GaussianNB</td>\n",
       "      <td>{'priors': None, 'var_smoothing': 1e-09}</td>\n",
       "      <td>0.478992</td>\n",
       "      <td>0.445546</td>\n",
       "      <td>0.140719</td>\n",
       "      <td>0.003630</td>\n",
       "    </tr>\n",
       "  </tbody>\n",
       "</table>\n",
       "</div>"
      ],
      "text/plain": [
       "                         MLA Name  \\\n",
       "20  QuadraticDiscriminantAnalysis   \n",
       "6            LogisticRegressionCV   \n",
       "16                      LinearSVC   \n",
       "15                          NuSVC   \n",
       "19     LinearDiscriminantAnalysis   \n",
       "14                            SVC   \n",
       "3      GradientBoostingClassifier   \n",
       "8               RidgeClassifierCV   \n",
       "1               BaggingClassifier   \n",
       "9                   SGDClassifier   \n",
       "4          RandomForestClassifier   \n",
       "10                     Perceptron   \n",
       "2            ExtraTreesClassifier   \n",
       "5       GaussianProcessClassifier   \n",
       "13           KNeighborsClassifier   \n",
       "17         DecisionTreeClassifier   \n",
       "7     PassiveAggressiveClassifier   \n",
       "18            ExtraTreeClassifier   \n",
       "0              AdaBoostClassifier   \n",
       "11                    BernoulliNB   \n",
       "12                     GaussianNB   \n",
       "\n",
       "                                       MLA Parameters  \\\n",
       "20  {'priors': None, 'reg_param': 0.0, 'store_cova...   \n",
       "6   {'Cs': 10, 'class_weight': None, 'cv': None, '...   \n",
       "16  {'C': 1.0, 'class_weight': None, 'dual': True,...   \n",
       "15  {'break_ties': False, 'cache_size': 200, 'clas...   \n",
       "19  {'n_components': None, 'priors': None, 'shrink...   \n",
       "14  {'C': 1.0, 'break_ties': False, 'cache_size': ...   \n",
       "3   {'ccp_alpha': 0.0, 'criterion': 'friedman_mse'...   \n",
       "8   {'alphas': array([ 0.1,  1. , 10. ]), 'class_w...   \n",
       "1   {'base_estimator': None, 'bootstrap': True, 'b...   \n",
       "9   {'alpha': 0.0001, 'average': False, 'class_wei...   \n",
       "4   {'bootstrap': True, 'ccp_alpha': 0.0, 'class_w...   \n",
       "10  {'alpha': 0.0001, 'class_weight': None, 'early...   \n",
       "2   {'bootstrap': False, 'ccp_alpha': 0.0, 'class_...   \n",
       "5   {'copy_X_train': True, 'kernel': None, 'max_it...   \n",
       "13  {'algorithm': 'auto', 'leaf_size': 30, 'metric...   \n",
       "17  {'ccp_alpha': 0.0, 'class_weight': None, 'crit...   \n",
       "7   {'C': 1.0, 'average': False, 'class_weight': N...   \n",
       "18  {'ccp_alpha': 0.0, 'class_weight': None, 'crit...   \n",
       "0   {'algorithm': 'SAMME.R', 'base_estimator': Non...   \n",
       "11  {'alpha': 1.0, 'binarize': 0.0, 'class_prior':...   \n",
       "12           {'priors': None, 'var_smoothing': 1e-09}   \n",
       "\n",
       "    MLA Train Accuracy Mean  MLA Test Accuracy Mean  MLA Test Accuracy 3*STD  \\\n",
       "20                 0.914632                0.851134                 0.122078   \n",
       "6                  0.836223                0.798950                 0.090560   \n",
       "16                 0.815998                0.787395                 0.125487   \n",
       "15                 0.870634                0.783838                 0.163486   \n",
       "19                 0.796562                0.781429                 0.154081   \n",
       "14                 0.843973                0.774174                 0.094228   \n",
       "3                  0.988967                0.768487                 0.126499   \n",
       "8                  0.777384                0.758725                 0.103688   \n",
       "1                  0.991856                0.757717                 0.123950   \n",
       "9                  0.763069                0.754076                 0.139929   \n",
       "4                  1.000000                0.753123                 0.173929   \n",
       "10                 0.745465                0.734062                 0.168088   \n",
       "2                  1.000000                0.730462                 0.116723   \n",
       "5                  0.954164                0.720994                 0.196854   \n",
       "13                 0.825190                0.715224                 0.198801   \n",
       "17                 1.000000                0.712731                 0.097183   \n",
       "7                  0.735221                0.707997                 0.163888   \n",
       "18                 1.000000                0.638207                 0.107752   \n",
       "0                  0.622935                0.590910                 0.164300   \n",
       "11                 0.469396                0.450336                 0.171572   \n",
       "12                 0.478992                0.445546                 0.140719   \n",
       "\n",
       "    MLA Time  \n",
       "20  0.005029  \n",
       "6   0.849299  \n",
       "16  0.104647  \n",
       "15  0.149166  \n",
       "19  0.008415  \n",
       "14  0.091901  \n",
       "3   0.762102  \n",
       "8   0.007445  \n",
       "1   0.036028  \n",
       "9   0.010877  \n",
       "4   0.200618  \n",
       "10  0.006311  \n",
       "2   0.134771  \n",
       "5   1.829191  \n",
       "13  0.003884  \n",
       "17  0.008627  \n",
       "7   0.012262  \n",
       "18  0.004892  \n",
       "0   0.090277  \n",
       "11  0.004701  \n",
       "12  0.003630  "
      ]
     },
     "execution_count": 34,
     "metadata": {},
     "output_type": "execute_result"
    }
   ],
   "source": [
    "MLA_com"
   ]
  },
  {
   "cell_type": "code",
   "execution_count": 35,
   "metadata": {},
   "outputs": [
    {
     "data": {
      "text/plain": [
       "QuadraticDiscriminantAnalysis(priors=None, reg_param=0.0,\n",
       "                              store_covariance=False, tol=0.0001)"
      ]
     },
     "execution_count": 35,
     "metadata": {},
     "output_type": "execute_result"
    }
   ],
   "source": [
    "clf = discriminant_analysis.QuadraticDiscriminantAnalysis()\n",
    "clf.fit(train_X, train_y)"
   ]
  },
  {
   "cell_type": "code",
   "execution_count": 36,
   "metadata": {},
   "outputs": [
    {
     "name": "stdout",
     "output_type": "stream",
     "text": [
      "Training accuracy: 0.9171597633136095\n",
      "Test accuracy: 0.8529411764705882\n"
     ]
    }
   ],
   "source": [
    "print('Training accuracy:', clf.score(train_X, train_y))\n",
    "print('Test accuracy:', clf.score(test_X, test_y))"
   ]
  },
  {
   "cell_type": "markdown",
   "metadata": {},
   "source": [
    "## Confusion matrix"
   ]
  },
  {
   "cell_type": "markdown",
   "metadata": {},
   "source": [
    "This gives us an idea of how confused the model is by displaying the true/false positives/negatives, quite understandable from the plot itself."
   ]
  },
  {
   "cell_type": "code",
   "execution_count": 37,
   "metadata": {},
   "outputs": [
    {
     "name": "stdout",
     "output_type": "stream",
     "text": [
      "<sklearn.metrics._plot.confusion_matrix.ConfusionMatrixDisplay object at 0x7f900f7d72e0>\n"
     ]
    },
    {
     "data": {
      "image/png": "[encoded data removed]",
      "text/plain": [
       "<Figure size 864x576 with 2 Axes>"
      ]
     },
     "metadata": {},
     "output_type": "display_data"
    }
   ],
   "source": [
    "conf = metrics.plot_confusion_matrix(clf, test_X, test_y, cmap=plt.cm.Blues_r)\n",
    "print(conf)"
   ]
  },
  {
   "cell_type": "markdown",
   "metadata": {},
   "source": [
    "We can clearly infer the following things from here:\n",
    "* Perfect classification of the class **bus**\n",
    "* Near to perfect classification of the class **van**\n",
    "* Average classification of the class **saab**\n",
    "* Below average classification of the class **opel**"
   ]
  },
  {
   "cell_type": "markdown",
   "metadata": {},
   "source": [
    "Now let us plot the confusion matrix for Random Forest:"
   ]
  },
  {
   "cell_type": "code",
   "execution_count": 38,
   "metadata": {},
   "outputs": [
    {
     "name": "stdout",
     "output_type": "stream",
     "text": [
      "Training accuracy: 0.7100591715976331\n",
      "Test accuracy: 0.6882352941176471\n",
      "<sklearn.metrics._plot.confusion_matrix.ConfusionMatrixDisplay object at 0x7f8fca0e9d60>\n"
     ]
    },
    {
     "data": {
      "image/png": "[encoded data removed]",
      "text/plain": [
       "<Figure size 864x576 with 2 Axes>"
      ]
     },
     "metadata": {},
     "output_type": "display_data"
    }
   ],
   "source": [
    "clf = linear_model.LogisticRegression()\n",
    "clf.fit(train_X, train_y)\n",
    "print('Training accuracy:', clf.score(train_X, train_y))\n",
    "print('Test accuracy:', clf.score(test_X, test_y))\n",
    "conf = metrics.plot_confusion_matrix(clf, test_X, test_y, cmap=plt.cm.Blues_r)\n",
    "print(conf)"
   ]
  },
  {
   "cell_type": "markdown",
   "metadata": {},
   "source": [
    "Simple logistic regression gives terrible results, and misclassifies the classes where QDA has almost 100% accuracy."
   ]
  },
  {
   "cell_type": "markdown",
   "metadata": {},
   "source": [
    "## What can we do with the given misclassification statistics?"
   ]
  },
  {
   "cell_type": "markdown",
   "metadata": {},
   "source": [
    "From the comparison table, we find that QDA performs considerably better than other algorithms for this dataset. We keep in mind that QDA works by weighing the important features and giving them more importance. This means that we have some redundant features, removing which, it will work well with other classifiers too.\n",
    "\n",
    "Dimensionality reduction is important as it:\n",
    "* Prevents Overfitting: A high-dimensional dataset having too many features can sometimes lead to overfitting (model captures both real and random effects).\n",
    "* Simplicity: An over-complex model having too many features can be hard to interpret especially when features are correlated with each other.\n",
    "* Computational Efficiency: A model trained on a lower-dimensional dataset is computationally more efficient (execution of algorithm requires less computational time).\n",
    "\n",
    "Hence, to reduce the number of features we map them to a smaller feature space using Principal Component Analysis (PCA). PCA combines multiple dependant features into one feature which would tend to be independent of the other features in the sample space. In other words it achieves dimensionality reduction by transforming features into orthogonal component axes of maximum variance in a dataset.\n",
    "\n",
    "An alternative to PCA is Linear Discriminant Analysis (LDA). The goal of LDA is to find the feature subspace that optimizes class separability and reduces dimensionality. LDA is a supervised algorithm unlike PCA.\n",
    "\n",
    "We will first do PCA and if it does not work, we will go for LDA."
   ]
  },
  {
   "cell_type": "markdown",
   "metadata": {},
   "source": [
    "## Principal component analysis"
   ]
  },
  {
   "cell_type": "markdown",
   "metadata": {},
   "source": [
    "PCA requires standardization of the data, so we do it before proceeding."
   ]
  },
  {
   "cell_type": "code",
   "execution_count": 39,
   "metadata": {},
   "outputs": [],
   "source": [
    "scaler = StandardScaler()\n",
    "scaler.fit(train_X)\n",
    "\n",
    "scaled_train_X = scaler.transform(train_X)\n",
    "scaled_test_X = scaler.transform(test_X)"
   ]
  },
  {
   "cell_type": "code",
   "execution_count": 40,
   "metadata": {},
   "outputs": [
    {
     "data": {
      "text/plain": [
       "11"
      ]
     },
     "execution_count": 40,
     "metadata": {},
     "output_type": "execute_result"
    }
   ],
   "source": [
    "pca = decomposition.PCA(0.99)  # Keeps 99% of the variance\n",
    "pca.fit(scaled_train_X)\n",
    "scaled_train_X = pca.fit_transform(scaled_train_X)\n",
    "scaled_test_X = pca.transform(scaled_test_X)\n",
    "pca.n_components_  # Number of features after reduction"
   ]
  },
  {
   "cell_type": "markdown",
   "metadata": {},
   "source": [
    "I have tried reducing the variance level (or number of components) but it does not help with the accuracy."
   ]
  },
  {
   "cell_type": "code",
   "execution_count": 41,
   "metadata": {},
   "outputs": [
    {
     "name": "stdout",
     "output_type": "stream",
     "text": [
      "RandomForestClassifier(bootstrap=True, ccp_alpha=0.0, class_weight=None,\n",
      "                       criterion='gini', max_depth=None, max_features='auto',\n",
      "                       max_leaf_nodes=None, max_samples=None,\n",
      "                       min_impurity_decrease=0.0, min_impurity_split=None,\n",
      "                       min_samples_leaf=1, min_samples_split=2,\n",
      "                       min_weight_fraction_leaf=0.0, n_estimators=100,\n",
      "                       n_jobs=None, oob_score=False, random_state=None,\n",
      "                       verbose=0, warm_start=False)\n",
      "0.7411764705882353\n"
     ]
    }
   ],
   "source": [
    "clf = ensemble.RandomForestClassifier()\n",
    "print(clf.fit(scaled_train_X, train_y))\n",
    "print(clf.score(scaled_test_X, test_y))"
   ]
  },
  {
   "cell_type": "code",
   "execution_count": 42,
   "metadata": {},
   "outputs": [
    {
     "name": "stdout",
     "output_type": "stream",
     "text": [
      "LogisticRegression(C=1.0, class_weight=None, dual=False, fit_intercept=True,\n",
      "                   intercept_scaling=1, l1_ratio=None, max_iter=100,\n",
      "                   multi_class='auto', n_jobs=None, penalty='l2',\n",
      "                   random_state=None, solver='lbfgs', tol=0.0001, verbose=0,\n",
      "                   warm_start=False)\n",
      "0.7529411764705882\n"
     ]
    }
   ],
   "source": [
    "clf = linear_model.LogisticRegression()\n",
    "print(clf.fit(scaled_train_X, train_y))\n",
    "print(clf.score(scaled_test_X, test_y))"
   ]
  },
  {
   "cell_type": "code",
   "execution_count": 43,
   "metadata": {
    "scrolled": true
   },
   "outputs": [
    {
     "name": "stdout",
     "output_type": "stream",
     "text": [
      "SVC(C=1.0, break_ties=False, cache_size=200, class_weight=None, coef0=0.0,\n",
      "    decision_function_shape='ovr', degree=3, gamma='scale', kernel='rbf',\n",
      "    max_iter=-1, probability=False, random_state=None, shrinking=True,\n",
      "    tol=0.001, verbose=False)\n",
      "0.7411764705882353\n"
     ]
    }
   ],
   "source": [
    "clf = svm.SVC()\n",
    "print(clf.fit(scaled_train_X, train_y))\n",
    "print(clf.score(scaled_test_X, test_y))"
   ]
  },
  {
   "cell_type": "markdown",
   "metadata": {},
   "source": [
    "Applying PCA does not help, rather it decreases the accuracy. It may be due to the swiss roll problem where the feature space forms a fold across the dimensions and reducing them leads to wrong interpretation of data.\n",
    "\n",
    "Hence we need to use some other method to reduce dimensions. We will try LDA now."
   ]
  },
  {
   "cell_type": "markdown",
   "metadata": {},
   "source": [
    "## Linear discriminant analysis"
   ]
  },
  {
   "cell_type": "code",
   "execution_count": 44,
   "metadata": {},
   "outputs": [],
   "source": [
    "scaled_train_X = scaler.transform(train_X)\n",
    "scaled_test_X = scaler.transform(test_X)\n",
    "lda = discriminant_analysis.LinearDiscriminantAnalysis(n_components=3)\n",
    "scaled_train_X = lda.fit_transform(scaled_train_X, train_y)\n",
    "scaled_test_X = lda.transform(scaled_test_X)"
   ]
  },
  {
   "cell_type": "code",
   "execution_count": 45,
   "metadata": {},
   "outputs": [
    {
     "name": "stdout",
     "output_type": "stream",
     "text": [
      "RandomForestClassifier(bootstrap=True, ccp_alpha=0.0, class_weight=None,\n",
      "                       criterion='gini', max_depth=None, max_features='auto',\n",
      "                       max_leaf_nodes=None, max_samples=None,\n",
      "                       min_impurity_decrease=0.0, min_impurity_split=None,\n",
      "                       min_samples_leaf=1, min_samples_split=2,\n",
      "                       min_weight_fraction_leaf=0.0, n_estimators=100,\n",
      "                       n_jobs=None, oob_score=False, random_state=None,\n",
      "                       verbose=0, warm_start=False)\n",
      "0.7823529411764706\n"
     ]
    }
   ],
   "source": [
    "clf = ensemble.RandomForestClassifier()\n",
    "print(clf.fit(scaled_train_X, train_y))\n",
    "print(clf.score(scaled_test_X, test_y))"
   ]
  },
  {
   "cell_type": "markdown",
   "metadata": {},
   "source": [
    "Performance in case of RF is same as without any dimension reduction."
   ]
  },
  {
   "cell_type": "code",
   "execution_count": 46,
   "metadata": {},
   "outputs": [
    {
     "name": "stdout",
     "output_type": "stream",
     "text": [
      "LogisticRegression(C=1.0, class_weight=None, dual=False, fit_intercept=True,\n",
      "                   intercept_scaling=1, l1_ratio=None, max_iter=100,\n",
      "                   multi_class='auto', n_jobs=None, penalty='l2',\n",
      "                   random_state=None, solver='lbfgs', tol=0.0001, verbose=0,\n",
      "                   warm_start=False)\n",
      "0.8117647058823529\n"
     ]
    }
   ],
   "source": [
    "clf = linear_model.LogisticRegression()\n",
    "print(clf.fit(scaled_train_X, train_y))\n",
    "print(clf.score(scaled_test_X, test_y))"
   ]
  },
  {
   "cell_type": "markdown",
   "metadata": {},
   "source": [
    "From 0.68 to 0.81 :)"
   ]
  },
  {
   "cell_type": "code",
   "execution_count": 48,
   "metadata": {},
   "outputs": [
    {
     "name": "stdout",
     "output_type": "stream",
     "text": [
      "<sklearn.metrics._plot.confusion_matrix.ConfusionMatrixDisplay object at 0x7f8fc86fd850>\n"
     ]
    },
    {
     "data": {
      "image/png": "[encoded data removed]",
      "text/plain": [
       "<Figure size 864x576 with 2 Axes>"
      ]
     },
     "metadata": {},
     "output_type": "display_data"
    }
   ],
   "source": [
    "conf = metrics.plot_confusion_matrix(clf, scaled_test_X, test_y, cmap=plt.cm.Blues_r)\n",
    "print(conf)"
   ]
  },
  {
   "cell_type": "markdown",
   "metadata": {},
   "source": [
    "Quite some recovery indeed!"
   ]
  },
  {
   "cell_type": "code",
   "execution_count": 21,
   "metadata": {
    "scrolled": true
   },
   "outputs": [
    {
     "name": "stdout",
     "output_type": "stream",
     "text": [
      "SVC(C=1.0, break_ties=False, cache_size=200, class_weight=None, coef0=0.0,\n",
      "    decision_function_shape='ovr', degree=3, gamma='scale', kernel='rbf',\n",
      "    max_iter=-1, probability=False, random_state=None, shrinking=True,\n",
      "    tol=0.001, verbose=False)\n",
      "0.8235294117647058\n"
     ]
    }
   ],
   "source": [
    "clf = svm.SVC()\n",
    "print(clf.fit(scaled_train_X, train_y))\n",
    "print(clf.score(scaled_test_X, test_y))"
   ]
  },
  {
   "cell_type": "markdown",
   "metadata": {},
   "source": [
    "There is considerable improvement over not only PCA but over the original model as well after dimensionality reduction using LDA for SVC and LR.\n",
    "\n",
    "Moreover, it is to be noted that we are using only 3 features for LDA, which means we have reduced the number of features from 18 to 3, which is incredible and which means that there is huge redundancy in features :D"
   ]
  },
  {
   "cell_type": "markdown",
   "metadata": {},
   "source": [
    "# Future scope"
   ]
  },
  {
   "cell_type": "markdown",
   "metadata": {},
   "source": [
    "* The data can be better tabulated\n",
    "* More classifiers can be tested."
   ]
  }
 ],
 "metadata": {
  "kernelspec": {
   "display_name": "Python 3",
   "language": "python",
   "name": "python3"
  },
  "language_info": {
   "codemirror_mode": {
    "name": "ipython",
    "version": 3
   },
   "file_extension": ".py",
   "mimetype": "text/x-python",
   "name": "python",
   "nbconvert_exporter": "python",
   "pygments_lexer": "ipython3",
   "version": "3.8.1"
  }
 },
 "nbformat": 4,
 "nbformat_minor": 2
}
